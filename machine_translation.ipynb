{
 "cells": [
  {
   "cell_type": "markdown",
   "metadata": {
    "collapsed": true
   },
   "source": [
    "# Artificial Intelligence Nanodegree\n",
    "## Machine Translation Project\n",
    "In this notebook, sections that end with **'(IMPLEMENTATION)'** in the header indicate that the following blocks of code will require additional functionality which you must provide. Please be sure to read the instructions carefully!\n",
    "\n",
    "## Introduction\n",
    "In this notebook, you will build a deep neural network that functions as part of an end-to-end machine translation pipeline. Your completed pipeline will accept English text as input and return the French translation.\n",
    "\n",
    "- **Preprocess** - You'll convert text to sequence of integers.\n",
    "- **Models** Create models which accepts a sequence of integers as input and returns a probability distribution over possible translations. After learning about the basic types of neural networks that are often used for machine translation, you will engage in your own investigations, to design your own model!\n",
    "- **Prediction** Run the model on English text.\n",
    "\n",
    "## Dataset\n",
    "We begin by investigating the dataset that will be used to train and evaluate your pipeline.  The most common datasets used for machine translation are from [WMT](http://www.statmt.org/).  However, that will take a long time to train a neural network on.  We'll be using a dataset we created for this project that contains a small vocabulary.  You'll be able to train your model in a reasonable time with this dataset.\n",
    "### Load Data\n",
    "The data is located in `data/small_vocab_en` and `data/small_vocab_fr`. The `small_vocab_en` file contains English sentences with their French translations in the `small_vocab_fr` file. Load the English and French data from these files from running the cell below."
   ]
  },
  {
   "cell_type": "code",
   "execution_count": 1,
   "metadata": {},
   "outputs": [
    {
     "name": "stdout",
     "output_type": "stream",
     "text": [
      "Dataset Loaded\n"
     ]
    }
   ],
   "source": [
    "import helper\n",
    "\n",
    "\n",
    "# Load English data\n",
    "english_sentences = helper.load_data('data/small_vocab_en')\n",
    "# Load French data\n",
    "french_sentences = helper.load_data('data/small_vocab_fr')\n",
    "\n",
    "print('Dataset Loaded')"
   ]
  },
  {
   "cell_type": "markdown",
   "metadata": {},
   "source": [
    "### Files\n",
    "Each line in `small_vocab_en` contains an English sentence with the respective translation in each line of `small_vocab_fr`.  View the first two lines from each file."
   ]
  },
  {
   "cell_type": "code",
   "execution_count": 2,
   "metadata": {},
   "outputs": [
    {
     "name": "stdout",
     "output_type": "stream",
     "text": [
      "small_vocab_en Line 1:  new jersey is sometimes quiet during autumn , and it is snowy in april .\n",
      "small_vocab_fr Line 1:  new jersey est parfois calme pendant l' automne , et il est neigeux en avril .\n",
      "small_vocab_en Line 2:  the united states is usually chilly during july , and it is usually freezing in november .\n",
      "small_vocab_fr Line 2:  les états-unis est généralement froid en juillet , et il gèle habituellement en novembre .\n"
     ]
    }
   ],
   "source": [
    "for sample_i in range(2):\n",
    "    print('small_vocab_en Line {}:  {}'.format(sample_i + 1, english_sentences[sample_i]))\n",
    "    print('small_vocab_fr Line {}:  {}'.format(sample_i + 1, french_sentences[sample_i]))"
   ]
  },
  {
   "cell_type": "markdown",
   "metadata": {},
   "source": [
    "From looking at the sentences, you can see they have been preprocessed already.  The puncuations have been delimited using spaces. All the text have been converted to lowercase.  This should save you some time, but the text requires more preprocessing.\n",
    "### Vocabulary\n",
    "The complexity of the problem is determined by the complexity of the vocabulary.  A more complex vocabulary is a more complex problem.  Let's look at the complexity of the dataset we'll be working with."
   ]
  },
  {
   "cell_type": "code",
   "execution_count": 3,
   "metadata": {},
   "outputs": [
    {
     "name": "stdout",
     "output_type": "stream",
     "text": [
      "1823250 English words.\n",
      "227 unique English words.\n",
      "10 Most common words in the English dataset:\n",
      "\"is\" \",\" \".\" \"in\" \"it\" \"during\" \"the\" \"but\" \"and\" \"sometimes\"\n",
      "\n",
      "1961295 French words.\n",
      "355 unique French words.\n",
      "10 Most common words in the French dataset:\n",
      "\"est\" \".\" \",\" \"en\" \"il\" \"les\" \"mais\" \"et\" \"la\" \"parfois\"\n"
     ]
    }
   ],
   "source": [
    "import collections\n",
    "\n",
    "\n",
    "english_words_counter = collections.Counter([word for sentence in english_sentences for word in sentence.split()])\n",
    "french_words_counter = collections.Counter([word for sentence in french_sentences for word in sentence.split()])\n",
    "\n",
    "print('{} English words.'.format(len([word for sentence in english_sentences for word in sentence.split()])))\n",
    "print('{} unique English words.'.format(len(english_words_counter)))\n",
    "print('10 Most common words in the English dataset:')\n",
    "print('\"' + '\" \"'.join(list(zip(*english_words_counter.most_common(10)))[0]) + '\"')\n",
    "print()\n",
    "print('{} French words.'.format(len([word for sentence in french_sentences for word in sentence.split()])))\n",
    "print('{} unique French words.'.format(len(french_words_counter)))\n",
    "print('10 Most common words in the French dataset:')\n",
    "print('\"' + '\" \"'.join(list(zip(*french_words_counter.most_common(10)))[0]) + '\"')"
   ]
  },
  {
   "cell_type": "markdown",
   "metadata": {},
   "source": [
    "For comparison, _Alice's Adventures in Wonderland_ contains 2,766 unique words of a total of 15,500 words.\n",
    "## Preprocess\n",
    "For this project, you won't use text data as input to your model. Instead, you'll convert the text into sequences of integers using the following preprocess methods:\n",
    "1. Tokenize the words into ids\n",
    "2. Add padding to make all the sequences the same length.\n",
    "\n",
    "Time to start preprocessing the data...\n",
    "### Tokenize (IMPLEMENTATION)\n",
    "For a neural network to predict on text data, it first has to be turned into data it can understand. Text data like \"dog\" is a sequence of ASCII character encodings.  Since a neural network is a series of multiplication and addition operations, the input data needs to be number(s).\n",
    "\n",
    "We can turn each character into a number or each word into a number.  These are called character and word ids, respectively.  Character ids are used for character level models that generate text predictions for each character.  A word level model uses word ids that generate text predictions for each word.  Word level models tend to learn better, since they are lower in complexity, so we'll use those.\n",
    "\n",
    "Turn each sentence into a sequence of words ids using Keras's [`Tokenizer`](https://keras.io/preprocessing/text/#tokenizer) function. Use this function to tokenize `english_sentences` and `french_sentences` in the cell below.\n",
    "\n",
    "Running the cell will run `tokenize` on sample data and show output for debugging."
   ]
  },
  {
   "cell_type": "code",
   "execution_count": 5,
   "metadata": {},
   "outputs": [
    {
     "name": "stdout",
     "output_type": "stream",
     "text": [
      "{'of': 14, 'won': 16, 'this': 18, 'lazy': 8, 'fox': 5, 'over': 7, 'prize': 17, 'brown': 4, 'my': 12, 'the': 1, 'study': 13, 'is': 19, 'a': 3, 'jove': 11, 'quick': 2, 'dog': 9, 'jumps': 6, 'sentence': 21, 'lexicography': 15, 'short': 20, 'by': 10}\n",
      "\n",
      "Sequence 1 in x\n",
      "  Input:  The quick brown fox jumps over the lazy dog .\n",
      "  Output: [1, 2, 4, 5, 6, 7, 1, 8, 9]\n",
      "Sequence 2 in x\n",
      "  Input:  By Jove , my quick study of lexicography won a prize .\n",
      "  Output: [10, 11, 12, 2, 13, 14, 15, 16, 3, 17]\n",
      "Sequence 3 in x\n",
      "  Input:  This is a short sentence .\n",
      "  Output: [18, 19, 3, 20, 21]\n"
     ]
    }
   ],
   "source": [
    "import project_tests as tests\n",
    "from keras.preprocessing.text import Tokenizer\n",
    "\n",
    "\n",
    "def tokenize(x):\n",
    "    \"\"\"\n",
    "    Tokenize x\n",
    "    :param x: List of sentences/strings to be tokenized\n",
    "    :return: Tuple of (tokenized x data, tokenizer used to tokenize x)\n",
    "    \"\"\"\n",
    "    # TODO: Implement\n",
    "    tokenizer = Tokenizer()\n",
    "    tokenizer.fit_on_texts(x)\n",
    "    return tokenizer.texts_to_sequences(x), tokenizer\n",
    "tests.test_tokenize(tokenize)\n",
    "\n",
    "# Tokenize Example output\n",
    "text_sentences = [\n",
    "    'The quick brown fox jumps over the lazy dog .',\n",
    "    'By Jove , my quick study of lexicography won a prize .',\n",
    "    'This is a short sentence .']\n",
    "text_tokenized, text_tokenizer = tokenize(text_sentences)\n",
    "print(text_tokenizer.word_index)\n",
    "print()\n",
    "for sample_i, (sent, token_sent) in enumerate(zip(text_sentences, text_tokenized)):\n",
    "    print('Sequence {} in x'.format(sample_i + 1))\n",
    "    print('  Input:  {}'.format(sent))\n",
    "    print('  Output: {}'.format(token_sent))"
   ]
  },
  {
   "cell_type": "markdown",
   "metadata": {},
   "source": [
    "### Padding (IMPLEMENTATION)\n",
    "When batching the sequence of word ids together, each sequence needs to be the same length.  Since sentences are dynamic in length, we can add padding to the end of the sequences to make them the same length.\n",
    "\n",
    "Make sure all the English sequences have the same length and all the French sequences have the same length by adding padding to the **end** of each sequence using Keras's [`pad_sequences`](https://keras.io/preprocessing/sequence/#pad_sequences) function."
   ]
  },
  {
   "cell_type": "code",
   "execution_count": 7,
   "metadata": {},
   "outputs": [
    {
     "name": "stdout",
     "output_type": "stream",
     "text": [
      "Sequence 1 in x\n",
      "  Input:  [1 2 4 5 6 7 1 8 9]\n",
      "  Output: [1 2 4 5 6 7 1 8 9 0]\n",
      "Sequence 2 in x\n",
      "  Input:  [10 11 12  2 13 14 15 16  3 17]\n",
      "  Output: [10 11 12  2 13 14 15 16  3 17]\n",
      "Sequence 3 in x\n",
      "  Input:  [18 19  3 20 21]\n",
      "  Output: [18 19  3 20 21  0  0  0  0  0]\n"
     ]
    }
   ],
   "source": [
    "import numpy as np\n",
    "from keras.preprocessing.sequence import pad_sequences\n",
    "\n",
    "\n",
    "def pad(x, length=None):\n",
    "    \"\"\"\n",
    "    Pad x\n",
    "    :param x: List of sequences.\n",
    "    :param length: Length to pad the sequence to.  If None, use length of longest sequence in x.\n",
    "    :return: Padded numpy array of sequences\n",
    "    \"\"\"\n",
    "    # TODO: Implement\n",
    "    return pad_sequences(x, maxlen=length, padding='post')\n",
    "tests.test_pad(pad)\n",
    "\n",
    "# Pad Tokenized output\n",
    "test_pad = pad(text_tokenized)\n",
    "for sample_i, (token_sent, pad_sent) in enumerate(zip(text_tokenized, test_pad)):\n",
    "    print('Sequence {} in x'.format(sample_i + 1))\n",
    "    print('  Input:  {}'.format(np.array(token_sent)))\n",
    "    print('  Output: {}'.format(pad_sent))"
   ]
  },
  {
   "cell_type": "markdown",
   "metadata": {},
   "source": [
    "### Preprocess Pipeline\n",
    "Your focus for this project is to build neural network architecture, so we won't ask you to create a preprocess pipeline.  Instead, we've provided you with the implementation of the `preprocess` function."
   ]
  },
  {
   "cell_type": "code",
   "execution_count": 8,
   "metadata": {},
   "outputs": [
    {
     "name": "stdout",
     "output_type": "stream",
     "text": [
      "Data Preprocessed\n"
     ]
    }
   ],
   "source": [
    "def preprocess(x, y):\n",
    "    \"\"\"\n",
    "    Preprocess x and y\n",
    "    :param x: Feature List of sentences\n",
    "    :param y: Label List of sentences\n",
    "    :return: Tuple of (Preprocessed x, Preprocessed y, x tokenizer, y tokenizer)\n",
    "    \"\"\"\n",
    "    preprocess_x, x_tk = tokenize(x)\n",
    "    preprocess_y, y_tk = tokenize(y)\n",
    "\n",
    "    preprocess_x = pad(preprocess_x)\n",
    "    preprocess_y = pad(preprocess_y)\n",
    "\n",
    "    # Keras's sparse_categorical_crossentropy function requires the labels to be in 3 dimensions\n",
    "    preprocess_y = preprocess_y.reshape(*preprocess_y.shape, 1)\n",
    "\n",
    "    return preprocess_x, preprocess_y, x_tk, y_tk\n",
    "\n",
    "preproc_english_sentences, preproc_french_sentences, english_tokenizer, french_tokenizer =\\\n",
    "    preprocess(english_sentences, french_sentences)\n",
    "\n",
    "print('Data Preprocessed')"
   ]
  },
  {
   "cell_type": "markdown",
   "metadata": {},
   "source": [
    "## Models\n",
    "In this section, you will experiment with various neural network architectures.\n",
    "You will begin by training four relatively simple architectures.\n",
    "- Model 1 is a simple RNN\n",
    "- Model 2 is a RNN with Embedding\n",
    "- Model 3 is a Bidirectional RNN\n",
    "- Model 4 is an optional Encoder-Decoder RNN\n",
    "\n",
    "After experimenting with the four simple architectures, you will construct a deeper architecture that is designed to outperform all four models.\n",
    "### Ids Back to Text\n",
    "The neural network will be translating the input to words ids, which isn't the final form we want.  We want the French translation.  The function `logits_to_text` will bridge the gab between the logits from the neural network to the French translation.  You'll be using this function to better understand the output of the neural network."
   ]
  },
  {
   "cell_type": "code",
   "execution_count": 13,
   "metadata": {},
   "outputs": [
    {
     "name": "stdout",
     "output_type": "stream",
     "text": [
      "`logits_to_text` function loaded.\n",
      "Python 3.5.4 :: Continuum Analytics, Inc.\r\n"
     ]
    }
   ],
   "source": [
    "def logits_to_text(logits, tokenizer):\n",
    "    \"\"\"\n",
    "    Turn logits from a neural network into text using the tokenizer\n",
    "    :param logits: Logits from a neural network\n",
    "    :param tokenizer: Keras Tokenizer fit on the labels\n",
    "    :return: String that represents the text of the logits\n",
    "    \"\"\"\n",
    "    index_to_words = {id: word for word, id in tokenizer.word_index.items()}\n",
    "    index_to_words[0] = '<PAD>'\n",
    "\n",
    "    return ' '.join([index_to_words[prediction] for prediction in np.argmax(logits, 1)])\n",
    "\n",
    "print('`logits_to_text` function loaded.')\n",
    "!python --version i"
   ]
  },
  {
   "cell_type": "markdown",
   "metadata": {},
   "source": [
    "### Model 1: RNN (IMPLEMENTATION)\n",
    "![RNN](images/rnn.png)\n",
    "A basic RNN model is a good baseline for sequence data.  In this model, you'll build a RNN that translates English to French."
   ]
  },
  {
   "cell_type": "code",
   "execution_count": 19,
   "metadata": {},
   "outputs": [
    {
     "name": "stdout",
     "output_type": "stream",
     "text": [
      "344\n",
      "345\n",
      "Train on 110288 samples, validate on 27573 samples\n",
      "Epoch 1/10\n",
      "110288/110288 [==============================] - 139s 1ms/step - loss: 2.9096 - acc: 0.4368 - val_loss: 2.4181 - val_acc: 0.4863\n",
      "Epoch 2/10\n",
      "110288/110288 [==============================] - 127s 1ms/step - loss: 2.2660 - acc: 0.4938 - val_loss: 2.1095 - val_acc: 0.5172\n",
      "Epoch 3/10\n",
      "110288/110288 [==============================] - 133s 1ms/step - loss: 2.0122 - acc: 0.5245 - val_loss: 1.9282 - val_acc: 0.5366\n",
      "Epoch 4/10\n",
      "110288/110288 [==============================] - 438s 4ms/step - loss: 1.8774 - acc: 0.5466 - val_loss: 1.8330 - val_acc: 0.5542\n",
      "Epoch 5/10\n",
      "110288/110288 [==============================] - 124s 1ms/step - loss: 1.7971 - acc: 0.5610 - val_loss: 1.7628 - val_acc: 0.5692\n",
      "Epoch 6/10\n",
      "110288/110288 [==============================] - 126s 1ms/step - loss: 1.7365 - acc: 0.5714 - val_loss: 1.7066 - val_acc: 0.5794\n",
      "Epoch 7/10\n",
      "110288/110288 [==============================] - 125s 1ms/step - loss: 1.6763 - acc: 0.5805 - val_loss: 1.6504 - val_acc: 0.5860\n",
      "Epoch 8/10\n",
      "110288/110288 [==============================] - 137s 1ms/step - loss: 1.6236 - acc: 0.5848 - val_loss: 1.5962 - val_acc: 0.5907\n",
      "Epoch 9/10\n",
      "110288/110288 [==============================] - 133s 1ms/step - loss: 1.5679 - acc: 0.5938 - val_loss: 1.5391 - val_acc: 0.5952\n",
      "Epoch 10/10\n",
      "110288/110288 [==============================] - 134s 1ms/step - loss: 1.5103 - acc: 0.6043 - val_loss: 1.4866 - val_acc: 0.6138\n",
      "new jersey est parfois parfois en l' mais il il en en en <PAD> <PAD> <PAD> <PAD> <PAD> <PAD> <PAD> <PAD>\n"
     ]
    }
   ],
   "source": [
    "from keras.layers import GRU, Input, Dense, TimeDistributed\n",
    "from keras.models import Sequential, Model\n",
    "from keras.layers import Activation\n",
    "from keras.optimizers import Adam\n",
    "from keras.losses import sparse_categorical_crossentropy\n",
    "\n",
    "\n",
    "def simple_model(input_shape, output_sequence_length, english_vocab_size, french_vocab_size):\n",
    "    \"\"\"\n",
    "    Build and train a basic RNN on x and y\n",
    "    :param input_shape: Tuple of input shape\n",
    "    :param output_sequence_length: Length of output sequence\n",
    "    :param english_vocab_size: Number of unique English words in the dataset\n",
    "    :param french_vocab_size: Number of unique French words in the dataset\n",
    "    :return: Keras model built, but not trained\n",
    "    \"\"\"\n",
    "    # TODO: Build the layers\n",
    "    print(french_vocab_size)\n",
    "    learning_rate = 0.01\n",
    "    model = None\n",
    "    model = Sequential()\n",
    "    model.add(GRU(output_sequence_length, input_shape=input_shape[1:], return_sequences=True))\n",
    "    model.add(Dense(french_vocab_size, activation='softmax'))\n",
    "    model.compile(loss=sparse_categorical_crossentropy,\n",
    "                  optimizer=Adam(learning_rate),\n",
    "                  metrics=['accuracy'])\n",
    "    return model\n",
    "tests.test_simple_model(simple_model)\n",
    "\n",
    "\n",
    "# Reshaping the input to work with a basic RNN\n",
    "tmp_x = pad(preproc_english_sentences, preproc_french_sentences.shape[1])\n",
    "tmp_x = tmp_x.reshape((-1, preproc_french_sentences.shape[-2], 1))\n",
    "\n",
    "# Train the neural network\n",
    "simple_rnn_model = simple_model(\n",
    "    tmp_x.shape,\n",
    "    preproc_french_sentences.shape[1],\n",
    "    len(english_tokenizer.word_index),\n",
    "    len(french_tokenizer.word_index)+1)\n",
    "simple_rnn_model.fit(tmp_x, preproc_french_sentences, batch_size=1024, epochs=10, validation_split=0.2)\n",
    "\n",
    "# Print prediction(s)\n",
    "print(logits_to_text(simple_rnn_model.predict(tmp_x[:1])[0], french_tokenizer))"
   ]
  },
  {
   "cell_type": "markdown",
   "metadata": {},
   "source": [
    "### Model 2: Embedding (IMPLEMENTATION)\n",
    "![RNN](images/embedding.png)\n",
    "You've turned the words into ids, but there's a better representation of a word.  This is called word embeddings.  An embedding is a vector representation of the word that is close to similar words in n-dimensional space, where the n represents the size of the embedding vectors.\n",
    "\n",
    "In this model, you'll create a RNN model using embedding."
   ]
  },
  {
   "cell_type": "code",
   "execution_count": 23,
   "metadata": {},
   "outputs": [
    {
     "name": "stdout",
     "output_type": "stream",
     "text": [
      "Train on 110288 samples, validate on 27573 samples\n",
      "Epoch 1/10\n",
      "110288/110288 [==============================] - 130s 1ms/step - loss: 3.0067 - acc: 0.4473 - val_loss: 1.8922 - val_acc: 0.5529\n",
      "Epoch 2/10\n",
      "110288/110288 [==============================] - 132s 1ms/step - loss: 1.4349 - acc: 0.6420 - val_loss: 1.0852 - val_acc: 0.7161\n",
      "Epoch 3/10\n",
      "110288/110288 [==============================] - 132s 1ms/step - loss: 0.9175 - acc: 0.7590 - val_loss: 0.7963 - val_acc: 0.7856\n",
      "Epoch 4/10\n",
      "110288/110288 [==============================] - 124s 1ms/step - loss: 0.7367 - acc: 0.7957 - val_loss: 0.6845 - val_acc: 0.8076\n",
      "Epoch 5/10\n",
      "110288/110288 [==============================] - 123s 1ms/step - loss: 0.6573 - acc: 0.8129 - val_loss: 0.6307 - val_acc: 0.8191\n",
      "Epoch 6/10\n",
      "110288/110288 [==============================] - 123s 1ms/step - loss: 0.6131 - acc: 0.8229 - val_loss: 0.5937 - val_acc: 0.8267\n",
      "Epoch 7/10\n",
      "110288/110288 [==============================] - 124s 1ms/step - loss: 0.5817 - acc: 0.8303 - val_loss: 0.5645 - val_acc: 0.8340\n",
      "Epoch 8/10\n",
      "110288/110288 [==============================] - 124s 1ms/step - loss: 0.5575 - acc: 0.8362 - val_loss: 0.5488 - val_acc: 0.8378\n",
      "Epoch 9/10\n",
      "110288/110288 [==============================] - 7721s 70ms/step - loss: 0.5386 - acc: 0.8408 - val_loss: 0.5284 - val_acc: 0.8433\n",
      "Epoch 10/10\n",
      "110288/110288 [==============================] - 130s 1ms/step - loss: 0.5236 - acc: 0.8440 - val_loss: 0.5157 - val_acc: 0.8463\n",
      "new jersey est parfois calme au l'automne et il est est en en en <PAD> <PAD> <PAD> <PAD> <PAD> <PAD> <PAD>\n"
     ]
    }
   ],
   "source": [
    "from keras.layers.embeddings import Embedding\n",
    "\n",
    "\n",
    "def embed_model(input_shape, output_sequence_length, english_vocab_size, french_vocab_size):\n",
    "    \"\"\"\n",
    "    Build and train a RNN model using word embedding on x and y\n",
    "    :param input_shape: Tuple of input shape\n",
    "    :param output_sequence_length: Length of output sequence\n",
    "    :param english_vocab_size: Number of unique English words in the dataset\n",
    "    :param french_vocab_size: Number of unique French words in the dataset\n",
    "    :return: Keras model built, but not trained\n",
    "    \"\"\"\n",
    "    # TODO: Implement\n",
    "    learning_rate=0.01\n",
    "    model = Sequential()\n",
    "    model.add(Embedding(english_vocab_size, input_shape[1], input_shape=input_shape[1:]))\n",
    "    model.add(GRU(output_sequence_length, return_sequences=True))\n",
    "    model.add(Dense(french_vocab_size, activation='softmax'))\n",
    "    model.compile(loss=sparse_categorical_crossentropy, \n",
    "                 optimizer=Adam(learning_rate), \n",
    "                 metrics=['accuracy'])\n",
    "    return model\n",
    "tests.test_embed_model(embed_model)\n",
    "\n",
    "\n",
    "# TODO: Reshape the input\n",
    "tmp_x = pad(preproc_english_sentences, preproc_french_sentences.shape[1])\n",
    "tmp_x = tmp_x.reshape((-1, preproc_french_sentences.shape[-2]))\n",
    "\n",
    "# TODO: Train the neural network\n",
    "embed_rnn_model = embed_model(\n",
    "    tmp_x.shape,\n",
    "    preproc_french_sentences.shape[1],\n",
    "    len(english_tokenizer.word_index)+1,\n",
    "    len(french_tokenizer.word_index)+1)\n",
    "embed_rnn_model.fit(tmp_x, preproc_french_sentences, batch_size=1024, epochs=10, validation_split=0.2)\n",
    "\n",
    "# TODO: Print prediction(s)\n",
    "print(logits_to_text(embed_rnn_model.predict(tmp_x[:1])[0], french_tokenizer))"
   ]
  },
  {
   "cell_type": "markdown",
   "metadata": {},
   "source": [
    "### Model 3: Bidirectional RNNs (IMPLEMENTATION)\n",
    "![RNN](images/bidirectional.png)\n",
    "One restriction of a RNN is that it can't see the future input, only the past.  This is where bidirectional recurrent neural networks come in.  They are able to see the future data."
   ]
  },
  {
   "cell_type": "code",
   "execution_count": 28,
   "metadata": {},
   "outputs": [
    {
     "name": "stdout",
     "output_type": "stream",
     "text": [
      "Train on 110288 samples, validate on 27573 samples\n",
      "Epoch 1/10\n",
      "110288/110288 [==============================] - 131s 1ms/step - loss: 2.4550 - acc: 0.5123 - val_loss: 1.7015 - val_acc: 0.5871\n",
      "Epoch 2/10\n",
      "110288/110288 [==============================] - 126s 1ms/step - loss: 1.5625 - acc: 0.6033 - val_loss: 1.4632 - val_acc: 0.6190\n",
      "Epoch 3/10\n",
      "110288/110288 [==============================] - 141s 1ms/step - loss: 1.3998 - acc: 0.6333 - val_loss: 1.3411 - val_acc: 0.6448\n",
      "Epoch 4/10\n",
      "110288/110288 [==============================] - 144s 1ms/step - loss: 1.3036 - acc: 0.6496 - val_loss: 1.2705 - val_acc: 0.6538\n",
      "Epoch 5/10\n",
      "110288/110288 [==============================] - 133s 1ms/step - loss: 1.2470 - acc: 0.6568 - val_loss: 1.2232 - val_acc: 0.6616\n",
      "Epoch 6/10\n",
      "110288/110288 [==============================] - 134s 1ms/step - loss: 1.2052 - acc: 0.6611 - val_loss: 1.1884 - val_acc: 0.6665\n",
      "Epoch 7/10\n",
      "110288/110288 [==============================] - 135s 1ms/step - loss: 1.1760 - acc: 0.6648 - val_loss: 1.1671 - val_acc: 0.6650\n",
      "Epoch 8/10\n",
      "110288/110288 [==============================] - 133s 1ms/step - loss: 1.1571 - acc: 0.6677 - val_loss: 1.1466 - val_acc: 0.6684\n",
      "Epoch 9/10\n",
      "110288/110288 [==============================] - 138s 1ms/step - loss: 1.1420 - acc: 0.6700 - val_loss: 1.1361 - val_acc: 0.6706\n",
      "Epoch 10/10\n",
      "110288/110288 [==============================] - 165s 1ms/step - loss: 1.1295 - acc: 0.6715 - val_loss: 1.1245 - val_acc: 0.6715\n",
      "new jersey est parfois calme en en et il est est en en <PAD> <PAD> <PAD> <PAD> <PAD> <PAD> <PAD> <PAD>\n"
     ]
    }
   ],
   "source": [
    "from keras.layers import Bidirectional\n",
    "\n",
    "\n",
    "def bd_model(input_shape, output_sequence_length, english_vocab_size, french_vocab_size):\n",
    "    \"\"\"\n",
    "    Build and train a bidirectional RNN model on x and y\n",
    "    :param input_shape: Tuple of input shape\n",
    "    :param output_sequence_length: Length of output sequence\n",
    "    :param english_vocab_size: Number of unique English words in the dataset\n",
    "    :param french_vocab_size: Number of unique French words in the dataset\n",
    "    :return: Keras model built, but not trained\n",
    "    \"\"\"\n",
    "    # TODO: Implement\n",
    "    learning_rate=0.01\n",
    "    model = Sequential()\n",
    "    model.add(Bidirectional(GRU(output_sequence_length, return_sequences=True), input_shape=input_shape[1:]))\n",
    "    model.add(Dense(french_vocab_size, activation = 'softmax'))\n",
    "    model.compile(loss = sparse_categorical_crossentropy,\n",
    "                 optimizer = Adam(learning_rate),\n",
    "                 metrics = ['accuracy'])\n",
    "    return model\n",
    "tests.test_bd_model(bd_model)\n",
    "\n",
    "# TODO: Train and Print prediction(s)\n",
    "tmp_x = pad(preproc_english_sentences, preproc_french_sentences.shape[1])\n",
    "tmp_x = tmp_x.reshape((-1, preproc_french_sentences.shape[-2], 1))\n",
    "\n",
    "bd_rnn_model = bd_model(\n",
    "    tmp_x.shape,\n",
    "    preproc_french_sentences.shape[1],\n",
    "    len(english_tokenizer.word_index)+1,\n",
    "    len(french_tokenizer.word_index)+1)\n",
    "bd_rnn_model.fit(tmp_x, preproc_french_sentences, batch_size=1024, epochs=10, validation_split=0.2)\n",
    "\n",
    "\n",
    "print(logits_to_text(bd_rnn_model.predict(tmp_x[:1])[0], french_tokenizer))"
   ]
  },
  {
   "cell_type": "markdown",
   "metadata": {},
   "source": [
    "### Model 4: Encoder-Decoder (OPTIONAL)\n",
    "Time to look at encoder-decoder models.  This model is made up of an encoder and decoder. The encoder creates a matrix representation of the sentence.  The decoder takes this matrix as input and predicts the translation as output.\n",
    "\n",
    "Create an encoder-decoder model in the cell below."
   ]
  },
  {
   "cell_type": "code",
   "execution_count": 49,
   "metadata": {},
   "outputs": [
    {
     "ename": "AttributeError",
     "evalue": "'NoneType' object has no attribute 'input_shape'",
     "output_type": "error",
     "traceback": [
      "\u001b[0;31m---------------------------------------------------------------------------\u001b[0m",
      "\u001b[0;31mAttributeError\u001b[0m                            Traceback (most recent call last)",
      "\u001b[0;32m<ipython-input-49-a6b511a741f9>\u001b[0m in \u001b[0;36m<module>\u001b[0;34m()\u001b[0m\n\u001b[1;32m     13\u001b[0m     \u001b[0;31m# OPTIONAL: Implement\u001b[0m\u001b[0;34m\u001b[0m\u001b[0;34m\u001b[0m\u001b[0m\n\u001b[1;32m     14\u001b[0m     \u001b[0;32mreturn\u001b[0m \u001b[0;32mNone\u001b[0m\u001b[0;34m\u001b[0m\u001b[0m\n\u001b[0;32m---> 15\u001b[0;31m \u001b[0mtests\u001b[0m\u001b[0;34m.\u001b[0m\u001b[0mtest_encdec_model\u001b[0m\u001b[0;34m(\u001b[0m\u001b[0mencdec_model\u001b[0m\u001b[0;34m)\u001b[0m\u001b[0;34m\u001b[0m\u001b[0m\n\u001b[0m\u001b[1;32m     16\u001b[0m \u001b[0;34m\u001b[0m\u001b[0m\n\u001b[1;32m     17\u001b[0m \u001b[0;34m\u001b[0m\u001b[0m\n",
      "\u001b[0;32m~/Documents/GitHub/aind2-nlp-capstone/project_tests.py\u001b[0m in \u001b[0;36mtest_encdec_model\u001b[0;34m(encdec_model)\u001b[0m\n\u001b[1;32m     81\u001b[0m \u001b[0;34m\u001b[0m\u001b[0m\n\u001b[1;32m     82\u001b[0m     \u001b[0mmodel\u001b[0m \u001b[0;34m=\u001b[0m \u001b[0mencdec_model\u001b[0m\u001b[0;34m(\u001b[0m\u001b[0minput_shape\u001b[0m\u001b[0;34m,\u001b[0m \u001b[0moutput_sequence_length\u001b[0m\u001b[0;34m,\u001b[0m \u001b[0menglish_vocab_size\u001b[0m\u001b[0;34m,\u001b[0m \u001b[0mfrench_vocab_size\u001b[0m\u001b[0;34m)\u001b[0m\u001b[0;34m\u001b[0m\u001b[0m\n\u001b[0;32m---> 83\u001b[0;31m     \u001b[0m_test_model\u001b[0m\u001b[0;34m(\u001b[0m\u001b[0mmodel\u001b[0m\u001b[0;34m,\u001b[0m \u001b[0minput_shape\u001b[0m\u001b[0;34m,\u001b[0m \u001b[0moutput_sequence_length\u001b[0m\u001b[0;34m,\u001b[0m \u001b[0mfrench_vocab_size\u001b[0m\u001b[0;34m)\u001b[0m\u001b[0;34m\u001b[0m\u001b[0m\n\u001b[0m\u001b[1;32m     84\u001b[0m \u001b[0;34m\u001b[0m\u001b[0m\n\u001b[1;32m     85\u001b[0m \u001b[0;34m\u001b[0m\u001b[0m\n",
      "\u001b[0;32m~/Documents/GitHub/aind2-nlp-capstone/project_tests.py\u001b[0m in \u001b[0;36m_test_model\u001b[0;34m(model, input_shape, output_sequence_length, french_vocab_size)\u001b[0m\n\u001b[1;32m     10\u001b[0m         \u001b[0mmodel\u001b[0m \u001b[0;34m=\u001b[0m \u001b[0mmodel\u001b[0m\u001b[0;34m.\u001b[0m\u001b[0mmodel\u001b[0m\u001b[0;34m\u001b[0m\u001b[0m\n\u001b[1;32m     11\u001b[0m \u001b[0;34m\u001b[0m\u001b[0m\n\u001b[0;32m---> 12\u001b[0;31m     \u001b[0;32massert\u001b[0m \u001b[0mmodel\u001b[0m\u001b[0;34m.\u001b[0m\u001b[0minput_shape\u001b[0m \u001b[0;34m==\u001b[0m \u001b[0;34m(\u001b[0m\u001b[0;32mNone\u001b[0m\u001b[0;34m,\u001b[0m \u001b[0;34m*\u001b[0m\u001b[0minput_shape\u001b[0m\u001b[0;34m[\u001b[0m\u001b[0;36m1\u001b[0m\u001b[0;34m:\u001b[0m\u001b[0;34m]\u001b[0m\u001b[0;34m)\u001b[0m\u001b[0;34m,\u001b[0m\u001b[0;31m\\\u001b[0m\u001b[0;34m\u001b[0m\u001b[0m\n\u001b[0m\u001b[1;32m     13\u001b[0m         \u001b[0;34m'Wrong input shape. Found input shape {} using parameter input_shape={}'\u001b[0m\u001b[0;34m.\u001b[0m\u001b[0mformat\u001b[0m\u001b[0;34m(\u001b[0m\u001b[0mmodel\u001b[0m\u001b[0;34m.\u001b[0m\u001b[0minput_shape\u001b[0m\u001b[0;34m,\u001b[0m \u001b[0minput_shape\u001b[0m\u001b[0;34m)\u001b[0m\u001b[0;34m\u001b[0m\u001b[0m\n\u001b[1;32m     14\u001b[0m \u001b[0;34m\u001b[0m\u001b[0m\n",
      "\u001b[0;31mAttributeError\u001b[0m: 'NoneType' object has no attribute 'input_shape'"
     ]
    }
   ],
   "source": [
    "from keras.layers import RepeatVector\n",
    "\n",
    "\n",
    "def encdec_model(input_shape, output_sequence_length, english_vocab_size, french_vocab_size):\n",
    "    \"\"\"\n",
    "    Build and train an encoder-decoder model on x and y\n",
    "    :param input_shape: Tuple of input shape\n",
    "    :param output_sequence_length: Length of output sequence\n",
    "    :param english_vocab_size: Number of unique English words in the dataset\n",
    "    :param french_vocab_size: Number of unique French words in the dataset\n",
    "    :return: Keras model built, but not trained\n",
    "    \"\"\"\n",
    "    # OPTIONAL: Implement\n",
    "    return None\n",
    "tests.test_encdec_model(encdec_model)\n",
    "\n",
    "\n",
    "# OPTIONAL: Train and Print prediction(s)"
   ]
  },
  {
   "cell_type": "markdown",
   "metadata": {},
   "source": [
    "### Model 5: Custom (IMPLEMENTATION)\n",
    "Use everything you learned from the previous models to create a model that incorporates embedding and a bidirectional rnn into one model."
   ]
  },
  {
   "cell_type": "code",
   "execution_count": 54,
   "metadata": {},
   "outputs": [
    {
     "name": "stdout",
     "output_type": "stream",
     "text": [
      "_________________________________________________________________\n",
      "Layer (type)                 Output Shape              Param #   \n",
      "=================================================================\n",
      "embedding_29 (Embedding)     (None, 15, 15)            2985      \n",
      "_________________________________________________________________\n",
      "bidirectional_27 (Bidirectio (None, 42)                4662      \n",
      "_________________________________________________________________\n",
      "repeat_vector_4 (RepeatVecto (None, 21, 42)            0         \n",
      "_________________________________________________________________\n",
      "bidirectional_28 (Bidirectio (None, 21, 42)            8064      \n",
      "_________________________________________________________________\n",
      "dense_42 (Dense)             (None, 21, 344)           14792     \n",
      "=================================================================\n",
      "Total params: 30,503\n",
      "Trainable params: 30,503\n",
      "Non-trainable params: 0\n",
      "_________________________________________________________________\n",
      "Final Model Loaded\n"
     ]
    }
   ],
   "source": [
    "def model_final(input_shape, output_sequence_length, english_vocab_size, french_vocab_size):\n",
    "    \"\"\"\n",
    "    Build and train a model that incorporates embedding, encoder-decoder, and bidirectional RNN on x and y\n",
    "    :param input_shape: Tuple of input shape\n",
    "    :param output_sequence_length: Length of output sequence\n",
    "    :param english_vocab_size: Number of unique English words in the dataset\n",
    "    :param french_vocab_size: Number of unique French words in the dataset\n",
    "    :return: Keras model built, but not trained\n",
    "    \"\"\"\n",
    "    # TODO: Implement\n",
    "    learning_rate = 0.01\n",
    "    model = Sequential()\n",
    "    model.add(Embedding(english_vocab_size, input_shape[1], input_shape=input_shape[1:]))\n",
    "    model.add(Bidirectional(GRU(output_sequence_length,input_shape = input_shape[1:])))\n",
    "    model.add(RepeatVector(output_sequence_length))\n",
    "    model.add(Bidirectional(GRU(output_sequence_length, return_sequences=True)))\n",
    "    model.add(Dense(french_vocab_size, activation='softmax'))\n",
    "    model.summary()\n",
    "    model.compile(loss=sparse_categorical_crossentropy, \n",
    "                 optimizer=Adam(learning_rate), \n",
    "                 metrics=['accuracy'])\n",
    "    return model\n",
    "tests.test_model_final(model_final)\n",
    "\n",
    "\n",
    "print('Final Model Loaded')"
   ]
  },
  {
   "cell_type": "markdown",
   "metadata": {},
   "source": [
    "# Prediction (IMPLEMENTATION)"
   ]
  },
  {
   "cell_type": "code",
   "execution_count": null,
   "metadata": {},
   "outputs": [
    {
     "name": "stdout",
     "output_type": "stream",
     "text": [
      "_________________________________________________________________\n",
      "Layer (type)                 Output Shape              Param #   \n",
      "=================================================================\n",
      "embedding_34 (Embedding)     (None, 15, 15)            3000      \n",
      "_________________________________________________________________\n",
      "bidirectional_36 (Bidirectio (None, 42)                4662      \n",
      "_________________________________________________________________\n",
      "repeat_vector_8 (RepeatVecto (None, 21, 42)            0         \n",
      "_________________________________________________________________\n",
      "bidirectional_37 (Bidirectio (None, 21, 42)            8064      \n",
      "_________________________________________________________________\n",
      "dense_46 (Dense)             (None, 21, 345)           14835     \n",
      "=================================================================\n",
      "Total params: 30,561\n",
      "Trainable params: 30,561\n",
      "Non-trainable params: 0\n",
      "_________________________________________________________________\n",
      "Train on 110288 samples, validate on 27573 samples\n",
      "Epoch 1/100\n",
      "110288/110288 [==============================] - 147s 1ms/step - loss: 2.9384 - acc: 0.4357 - val_loss: 2.4795 - val_acc: 0.4545\n",
      "Epoch 2/100\n",
      "110288/110288 [==============================] - 142s 1ms/step - loss: 2.1766 - acc: 0.4915 - val_loss: 2.0059 - val_acc: 0.5109\n",
      "Epoch 3/100\n",
      "110288/110288 [==============================] - 140s 1ms/step - loss: 1.9466 - acc: 0.5150 - val_loss: 1.8782 - val_acc: 0.5216\n",
      "Epoch 4/100\n",
      "110288/110288 [==============================] - 141s 1ms/step - loss: 1.8346 - acc: 0.5334 - val_loss: 1.7948 - val_acc: 0.5554\n",
      "Epoch 5/100\n",
      "110288/110288 [==============================] - 140s 1ms/step - loss: 1.7256 - acc: 0.5646 - val_loss: 1.6645 - val_acc: 0.5757\n",
      "Epoch 6/100\n",
      "110288/110288 [==============================] - 382s 3ms/step - loss: 1.6247 - acc: 0.5826 - val_loss: 1.5797 - val_acc: 0.5849\n",
      "Epoch 7/100\n",
      "110288/110288 [==============================] - 141s 1ms/step - loss: 1.5446 - acc: 0.5947 - val_loss: 1.5039 - val_acc: 0.6045\n",
      "Epoch 8/100\n",
      "110288/110288 [==============================] - 142s 1ms/step - loss: 1.4765 - acc: 0.6082 - val_loss: 1.4491 - val_acc: 0.6116\n",
      "Epoch 9/100\n",
      "110288/110288 [==============================] - 142s 1ms/step - loss: 1.4106 - acc: 0.6187 - val_loss: 1.3807 - val_acc: 0.6261\n",
      "Epoch 10/100\n",
      "110288/110288 [==============================] - 144s 1ms/step - loss: 1.3488 - acc: 0.6330 - val_loss: 1.3082 - val_acc: 0.6439\n",
      "Epoch 11/100\n",
      "110288/110288 [==============================] - 142s 1ms/step - loss: 1.2926 - acc: 0.6442 - val_loss: 1.2619 - val_acc: 0.6522\n",
      "Epoch 12/100\n",
      "110288/110288 [==============================] - 142s 1ms/step - loss: 1.2448 - acc: 0.6550 - val_loss: 1.2170 - val_acc: 0.6640\n",
      "Epoch 13/100\n",
      "110288/110288 [==============================] - 142s 1ms/step - loss: 1.2029 - acc: 0.6664 - val_loss: 1.1801 - val_acc: 0.6762\n",
      "Epoch 14/100\n",
      "110288/110288 [==============================] - 142s 1ms/step - loss: 1.1656 - acc: 0.6778 - val_loss: 1.1461 - val_acc: 0.6845\n",
      "Epoch 15/100\n",
      "110288/110288 [==============================] - 142s 1ms/step - loss: 1.1421 - acc: 0.6840 - val_loss: 1.1448 - val_acc: 0.6844\n",
      "Epoch 16/100\n",
      "110288/110288 [==============================] - 913s 8ms/step - loss: 1.1115 - acc: 0.6921 - val_loss: 1.0963 - val_acc: 0.6989\n",
      "Epoch 17/100\n",
      "110288/110288 [==============================] - 143s 1ms/step - loss: 1.0910 - acc: 0.6984 - val_loss: 1.0723 - val_acc: 0.7058\n",
      "Epoch 18/100\n",
      "110288/110288 [==============================] - 141s 1ms/step - loss: 1.0688 - acc: 0.7045 - val_loss: 1.0469 - val_acc: 0.7096\n",
      "Epoch 19/100\n",
      "110288/110288 [==============================] - 141s 1ms/step - loss: 1.0411 - acc: 0.7119 - val_loss: 1.0369 - val_acc: 0.7114\n",
      "Epoch 20/100\n",
      "110288/110288 [==============================] - 141s 1ms/step - loss: 1.0244 - acc: 0.7156 - val_loss: 1.0293 - val_acc: 0.7143\n",
      "Epoch 21/100\n",
      "110288/110288 [==============================] - 142s 1ms/step - loss: 1.0097 - acc: 0.7193 - val_loss: 1.0065 - val_acc: 0.7183\n",
      "Epoch 22/100\n",
      "110288/110288 [==============================] - 1399s 13ms/step - loss: 0.9936 - acc: 0.7227 - val_loss: 0.9889 - val_acc: 0.7275\n",
      "Epoch 23/100\n",
      "110288/110288 [==============================] - 143s 1ms/step - loss: 0.9957 - acc: 0.7213 - val_loss: 0.9661 - val_acc: 0.7317\n",
      "Epoch 24/100\n",
      "110288/110288 [==============================] - 142s 1ms/step - loss: 0.9583 - acc: 0.7311 - val_loss: 0.9587 - val_acc: 0.7302\n",
      "Epoch 25/100\n",
      "110288/110288 [==============================] - 142s 1ms/step - loss: 0.9483 - acc: 0.7337 - val_loss: 0.9424 - val_acc: 0.7345\n",
      "Epoch 26/100\n",
      "110288/110288 [==============================] - 143s 1ms/step - loss: 0.9375 - acc: 0.7363 - val_loss: 0.9241 - val_acc: 0.7429\n",
      "Epoch 27/100\n",
      "110288/110288 [==============================] - 142s 1ms/step - loss: 0.9171 - acc: 0.7422 - val_loss: 0.9216 - val_acc: 0.7435\n",
      "Epoch 28/100\n",
      "110288/110288 [==============================] - 143s 1ms/step - loss: 0.9129 - acc: 0.7430 - val_loss: 0.9037 - val_acc: 0.7445\n",
      "Epoch 29/100\n",
      "110288/110288 [==============================] - 142s 1ms/step - loss: 0.9028 - acc: 0.7457 - val_loss: 0.9061 - val_acc: 0.7444\n",
      "Epoch 30/100\n",
      "110288/110288 [==============================] - 142s 1ms/step - loss: 0.8824 - acc: 0.7516 - val_loss: 0.8818 - val_acc: 0.7529\n",
      "Epoch 31/100\n",
      "110288/110288 [==============================] - 143s 1ms/step - loss: 0.8693 - acc: 0.7543 - val_loss: 0.8689 - val_acc: 0.7539\n",
      "Epoch 32/100\n",
      "110288/110288 [==============================] - 142s 1ms/step - loss: 0.8588 - acc: 0.7565 - val_loss: 0.8584 - val_acc: 0.7567\n",
      "Epoch 33/100\n",
      "110288/110288 [==============================] - 142s 1ms/step - loss: 0.8622 - acc: 0.7555 - val_loss: 0.8522 - val_acc: 0.7601\n",
      "Epoch 34/100\n",
      "110288/110288 [==============================] - 142s 1ms/step - loss: 0.8407 - acc: 0.7616 - val_loss: 0.8457 - val_acc: 0.7613\n",
      "Epoch 35/100\n",
      "110288/110288 [==============================] - 143s 1ms/step - loss: 0.8355 - acc: 0.7627 - val_loss: 0.8407 - val_acc: 0.7616\n",
      "Epoch 36/100\n",
      "110288/110288 [==============================] - 142s 1ms/step - loss: 0.8276 - acc: 0.7650 - val_loss: 0.8258 - val_acc: 0.7662\n",
      "Epoch 37/100\n",
      "110288/110288 [==============================] - 147s 1ms/step - loss: 0.8297 - acc: 0.7642 - val_loss: 0.8135 - val_acc: 0.7696\n",
      "Epoch 38/100\n",
      "110288/110288 [==============================] - 143s 1ms/step - loss: 0.8147 - acc: 0.7681 - val_loss: 0.8496 - val_acc: 0.7588\n",
      "Epoch 39/100\n",
      "110288/110288 [==============================] - 143s 1ms/step - loss: 0.8166 - acc: 0.7672 - val_loss: 0.8079 - val_acc: 0.7703\n",
      "Epoch 40/100\n",
      "110288/110288 [==============================] - 142s 1ms/step - loss: 0.8006 - acc: 0.7713 - val_loss: 0.7981 - val_acc: 0.7744\n",
      "Epoch 41/100\n",
      "110288/110288 [==============================] - 142s 1ms/step - loss: 0.7910 - acc: 0.7736 - val_loss: 0.7861 - val_acc: 0.7761\n",
      "Epoch 42/100\n",
      "110288/110288 [==============================] - 142s 1ms/step - loss: 0.7869 - acc: 0.7750 - val_loss: 0.7813 - val_acc: 0.7772\n",
      "Epoch 43/100\n",
      "110288/110288 [==============================] - 143s 1ms/step - loss: 0.7857 - acc: 0.7747 - val_loss: 0.7843 - val_acc: 0.7758\n",
      "Epoch 44/100\n",
      "110288/110288 [==============================] - 143s 1ms/step - loss: 0.7860 - acc: 0.7745 - val_loss: 0.7967 - val_acc: 0.7703\n",
      "Epoch 45/100\n",
      "110288/110288 [==============================] - 145s 1ms/step - loss: 0.7812 - acc: 0.7759 - val_loss: 0.7838 - val_acc: 0.7779\n",
      "Epoch 46/100\n",
      "110288/110288 [==============================] - 153s 1ms/step - loss: 0.7650 - acc: 0.7810 - val_loss: 0.7744 - val_acc: 0.7778\n",
      "Epoch 47/100\n",
      "110288/110288 [==============================] - 153s 1ms/step - loss: 0.7621 - acc: 0.7814 - val_loss: 0.7649 - val_acc: 0.7802\n",
      "Epoch 48/100\n",
      "110288/110288 [==============================] - 152s 1ms/step - loss: 0.7559 - acc: 0.7833 - val_loss: 0.7743 - val_acc: 0.7802\n",
      "Epoch 49/100\n",
      "110288/110288 [==============================] - 148s 1ms/step - loss: 0.7571 - acc: 0.7825 - val_loss: 0.7618 - val_acc: 0.7827\n",
      "Epoch 50/100\n",
      "110288/110288 [==============================] - 3844s 35ms/step - loss: 0.7543 - acc: 0.7838 - val_loss: 0.7492 - val_acc: 0.7859\n",
      "Epoch 51/100\n"
     ]
    },
    {
     "name": "stdout",
     "output_type": "stream",
     "text": [
      "110288/110288 [==============================] - 143s 1ms/step - loss: 0.7425 - acc: 0.7871 - val_loss: 0.7873 - val_acc: 0.7772\n",
      "Epoch 52/100\n",
      "110288/110288 [==============================] - 142s 1ms/step - loss: 0.7504 - acc: 0.7850 - val_loss: 0.7537 - val_acc: 0.7857\n",
      "Epoch 53/100\n",
      "110288/110288 [==============================] - 142s 1ms/step - loss: 0.7500 - acc: 0.7848 - val_loss: 0.7470 - val_acc: 0.7860\n",
      "Epoch 54/100\n",
      "110288/110288 [==============================] - 143s 1ms/step - loss: 0.7342 - acc: 0.7895 - val_loss: 0.7396 - val_acc: 0.7896\n",
      "Epoch 55/100\n",
      "110288/110288 [==============================] - 147s 1ms/step - loss: 0.7270 - acc: 0.7920 - val_loss: 0.7281 - val_acc: 0.7918\n",
      "Epoch 56/100\n",
      "110288/110288 [==============================] - 166s 2ms/step - loss: 0.7140 - acc: 0.7959 - val_loss: 0.7208 - val_acc: 0.7940\n",
      "Epoch 57/100\n",
      "110288/110288 [==============================] - 141s 1ms/step - loss: 0.7131 - acc: 0.7956 - val_loss: 0.7192 - val_acc: 0.7959\n",
      "Epoch 58/100\n",
      "110288/110288 [==============================] - 150s 1ms/step - loss: 0.7142 - acc: 0.7951 - val_loss: 0.7186 - val_acc: 0.7947\n",
      "Epoch 59/100\n",
      "110288/110288 [==============================] - 149s 1ms/step - loss: 0.7269 - acc: 0.7920 - val_loss: 0.7057 - val_acc: 0.7995\n",
      "Epoch 60/100\n",
      "110288/110288 [==============================] - 172s 2ms/step - loss: 0.6970 - acc: 0.8006 - val_loss: 0.7126 - val_acc: 0.7973\n",
      "Epoch 61/100\n",
      " 58368/110288 [==============>...............] - ETA: 1:10 - loss: 0.6923 - acc: 0.8017"
     ]
    }
   ],
   "source": [
    "import numpy as np\n",
    "from keras.preprocessing.sequence import pad_sequences\n",
    "from keras.callbacks import ModelCheckpoint\n",
    "\n",
    "\n",
    "def final_predictions(x, y, x_tk, y_tk):\n",
    "    \"\"\"\n",
    "    Gets predictions using the final model\n",
    "    :param x: Preprocessed English data\n",
    "    :param y: Preprocessed French data\n",
    "    :param x_tk: English tokenizer\n",
    "    :param y_tk: French tokenizer\n",
    "    \"\"\"\n",
    "    # TODO: Train neural network using model_final\n",
    "    #tmp_x = pad(x, y.shape[1])\n",
    "    tmp_x = x.reshape((-1, x.shape[-1]))    \n",
    "    \n",
    "    model = model_final(\n",
    "    tmp_x.shape,\n",
    "    preproc_french_sentences.shape[1],\n",
    "    len(english_tokenizer.word_index)+1,\n",
    "    len(french_tokenizer.word_index)+1)\n",
    "    \n",
    "    #checkpoint = ModelCheckpoint(filepath='weights.best.custom.hdf5', verbose=1, save_best_only=True)\n",
    "    \n",
    "    model.fit(tmp_x, y, batch_size=1024, epochs=100, validation_split=0.2)\n",
    "    #model.load_weights('weights.best.custom.hdf5')\n",
    "    \n",
    "    ## DON'T EDIT ANYTHING BELOW THIS LINE\n",
    "    y_id_to_word = {value: key for key, value in y_tk.word_index.items()}\n",
    "    y_id_to_word[0] = '<PAD>'\n",
    "\n",
    "    sentence = 'he saw a old yellow truck'\n",
    "    sentence = [x_tk.word_index[word] for word in sentence.split()]\n",
    "    sentence = pad_sequences([sentence], maxlen=x.shape[-1], padding='post')\n",
    "    sentences = np.array([sentence[0], x[0]])\n",
    "    predictions = model.predict(sentences, len(sentences))\n",
    "\n",
    "    print('Sample 1:')\n",
    "    print(' '.join([y_id_to_word[np.argmax(x)] for x in predictions[0]]))\n",
    "    print('Il a vu un vieux camion jaune')\n",
    "    print('Sample 2:')\n",
    "    print(' '.join([y_id_to_word[np.argmax(x)] for x in predictions[1]]))\n",
    "    print(' '.join([y_id_to_word[np.argmax(x)] for x in y[0]]))\n",
    "\n",
    "\n",
    "final_predictions(preproc_english_sentences, preproc_french_sentences, english_tokenizer, french_tokenizer)"
   ]
  },
  {
   "cell_type": "markdown",
   "metadata": {},
   "source": [
    "## Submission\n",
    "When you are ready to submit your project, do the following steps:\n",
    "1. Ensure you pass all points on the [rubric](https://review.udacity.com/#!/rubrics/1004/view).\n",
    "2. Submit the following in a zip file.\n",
    "  - `helper.py`\n",
    "  - `machine_translation.ipynb`\n",
    "  - `machine_translation.html`\n",
    "    - You can export the notebook by navigating to **File -> Download as -> HTML (.html)**."
   ]
  }
 ],
 "metadata": {
  "kernelspec": {
   "display_name": "Python [conda env:aind-nlp-capstone]",
   "language": "python",
   "name": "conda-env-aind-nlp-capstone-py"
  },
  "language_info": {
   "codemirror_mode": {
    "name": "ipython",
    "version": 3
   },
   "file_extension": ".py",
   "mimetype": "text/x-python",
   "name": "python",
   "nbconvert_exporter": "python",
   "pygments_lexer": "ipython3",
   "version": "3.5.4"
  }
 },
 "nbformat": 4,
 "nbformat_minor": 1
}
